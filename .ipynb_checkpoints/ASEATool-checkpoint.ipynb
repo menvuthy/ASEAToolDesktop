{
 "cells": [
  {
   "cell_type": "markdown",
   "metadata": {
    "id": "FDAl27C4Zcbo"
   },
   "source": [
    "<div class=\"markdown-google-sans\">\n",
    "\n",
    "# **<font size=\"6\">Automated Shoreline Extraction and Analysis Tool</font>**\n",
    "</div>\n",
    "\n",
    "\n",
    "*Release version v.1.1.3*\n",
    "\n",
    "---\n",
    "\n",
    "\n",
    "\n",
    "\n",
    "\n"
   ]
  },
  {
   "cell_type": "markdown",
   "metadata": {
    "id": "jipzOSjJ9BXI"
   },
   "source": [
    "<div class=\"markdown-google-sans\">\n",
    "\n",
    "## **Getting started**\n",
    "</div>\n",
    "\n",
    "<font color='darkred'>**ASEA Tool**</font> is a rapid and simple tool capable of extracting the shoreline from Sentinel-2 satellite imagery with good accuracy and calculating the shoreline growth and retreat. The model is available on [GitHub](https://github.com/menvuthy/ASEA-Model) under a permissive MIT License and Copyright (c) 2022 Men Vuthy.\n",
    "\n",
    "[![Github repo](https://img.shields.io/badge/GitHub-Repository-red.svg)](https://github.com/menvuthy/ASEA-Model)\n",
    "[![GitHub release](https://img.shields.io/github/v/release/menvuthy/ASEA-Model.svg)](https://github.com/menvuthy/ASEA-Model/releases)\n",
    "[![License: MIT license](https://img.shields.io/badge/License-MIT-green.svg)](https://github.com/menvuthy/ASEA-Model/blob/main/LICENSE)"
   ]
  },
  {
   "cell_type": "markdown",
   "metadata": {
    "id": "1_03gbgXrYZz"
   },
   "source": [
    "*Authenticate Google Earth Engine*"
   ]
  },
  {
   "cell_type": "code",
   "execution_count": 1,
   "metadata": {},
   "outputs": [
    {
     "data": {
      "text/html": [
       "<p>To authorize access needed by Earth Engine, open the following\n",
       "        URL in a web browser and follow the instructions:</p>\n",
       "        <p><a href=https://code.earthengine.google.com/client-auth?scopes=https%3A//www.googleapis.com/auth/earthengine%20https%3A//www.googleapis.com/auth/devstorage.full_control&request_id=x3OkFxWXF6mPXjK2e4IIbEFt7AKdd0eG0jFN7SR3fjM&tc=DizZzYQ7dAdcjOgJxvWKUPpPu7dvfksxDPSgXSCwpRc&cc=tLzQDcAw_J4I90VAUartPpjAMAzw00U6xENvG2QRhaQ>https://code.earthengine.google.com/client-auth?scopes=https%3A//www.googleapis.com/auth/earthengine%20https%3A//www.googleapis.com/auth/devstorage.full_control&request_id=x3OkFxWXF6mPXjK2e4IIbEFt7AKdd0eG0jFN7SR3fjM&tc=DizZzYQ7dAdcjOgJxvWKUPpPu7dvfksxDPSgXSCwpRc&cc=tLzQDcAw_J4I90VAUartPpjAMAzw00U6xENvG2QRhaQ</a></p>\n",
       "        <p>The authorization workflow will generate a code, which you should paste in the box below.</p>\n",
       "        "
      ],
      "text/plain": [
       "<IPython.core.display.HTML object>"
      ]
     },
     "metadata": {},
     "output_type": "display_data"
    },
    {
     "name": "stdin",
     "output_type": "stream",
     "text": [
      "Enter verification code:  4/1AfJohXkRIJMsHfPEY4cfyseXoJ4-I-nVjhaj8ynnTXWj91Kwe2SrqH2MboM\n"
     ]
    },
    {
     "name": "stdout",
     "output_type": "stream",
     "text": [
      "\n",
      "Successfully saved authorization token.\n"
     ]
    }
   ],
   "source": [
    "import ee\n",
    "ee.Authenticate()\n",
    "ee.Initialize()"
   ]
  },
  {
   "cell_type": "markdown",
   "metadata": {
    "id": "Maqbn4rardvb"
   },
   "source": [
    "<div class=\"markdown-google-sans\">\n",
    "\n",
    "## **1. Download**\n",
    "</div>\n",
    "\n",
    "Open `parameters.py` file:\n",
    "\n",
    "- Set area of interest by generating geometry from [Google Earth Engine](https://code.earthengine.google.com)\n",
    "- Set the date range\n",
    "\n",
    "*Check `docs/generate-geometry.gif` to see the tutorial on how to generate geometry.*\n",
    "\n",
    "Execute the code below to:\n",
    "\n",
    "- Pre-process and download Sentinel-2 image from Earth Engine Dataset"
   ]
  },
  {
   "cell_type": "code",
   "execution_count": 6,
   "metadata": {
    "colab": {
     "base_uri": "https://localhost:8080/"
    },
    "executionInfo": {
     "elapsed": 46486,
     "status": "ok",
     "timestamp": 1688610047883,
     "user": {
      "displayName": "MEN Vuthy",
      "userId": "02183312642253897909"
     },
     "user_tz": -540
    },
    "id": "IWu8kwHJ0yIC",
    "outputId": "f5bfba7c-a316-426b-fffd-0c982a44154a"
   },
   "outputs": [
    {
     "name": "stdout",
     "output_type": "stream",
     "text": [
      " Download completed!\n"
     ]
    },
    {
     "name": "stderr",
     "output_type": "stream",
     "text": [
      "Warning 1: TIFFReadDirectory:Sum of Photometric type-related color channels and ExtraSamples doesn't match SamplesPerPixel. Defining non-color channels as ExtraSamples.\n",
      "Warning 1: TIFFReadDirectory:Sum of Photometric type-related color channels and ExtraSamples doesn't match SamplesPerPixel. Defining non-color channels as ExtraSamples.\n"
     ]
    }
   ],
   "source": [
    "# Execute to download satellite images\n",
    "\n",
    "!python execute_1_download_satellite_image.py"
   ]
  },
  {
   "cell_type": "markdown",
   "metadata": {
    "id": "6O77174l5dLt"
   },
   "source": [
    "<div class=\"markdown-google-sans\">\n",
    "\n",
    "## **2. Extract shoreline**\n",
    "</div>\n",
    "\n",
    "Execute the code below to:\n",
    "\n",
    "- extract shorelines from retrieved satellite image\n",
    "- create figure of satellite image and extracted shoreline"
   ]
  },
  {
   "cell_type": "code",
   "execution_count": 7,
   "metadata": {
    "colab": {
     "base_uri": "https://localhost:8080/"
    },
    "executionInfo": {
     "elapsed": 28156,
     "status": "ok",
     "timestamp": 1688610076035,
     "user": {
      "displayName": "MEN Vuthy",
      "userId": "02183312642253897909"
     },
     "user_tz": -540
    },
    "id": "PA7t-CTgfSdX",
    "outputId": "1c09ef15-4b7a-47be-e433-9b6fdc008652"
   },
   "outputs": [
    {
     "name": "stdout",
     "output_type": "stream",
     "text": [
      "Extracting shoreline...\n",
      "Shoreline extraction completed!\n"
     ]
    }
   ],
   "source": [
    "# Execute to extract shoreline\n",
    "\n",
    "!python execute_2_shoreline_extraction.py"
   ]
  },
  {
   "cell_type": "markdown",
   "metadata": {
    "id": "whZokZFj5JNo"
   },
   "source": [
    "Tips: Before continue to next step, please check and confirm if the extracted shoreline is acceptable. If not, manually modify it based on the retreived satellite image in QGIS, then reupload to drive."
   ]
  },
  {
   "cell_type": "markdown",
   "metadata": {
    "id": "rxVppMVJrvNd"
   },
   "source": [
    "<div class=\"markdown-google-sans\">\n",
    "\n",
    "## **3. Calculate growth and retreat**\n",
    "</div>\n",
    "\n",
    "Go to `input/shoreline` folder\n",
    "\n",
    "- place two shoreline json files (earlier shoreline and later shoreline) in the folder by maintaining the filenames\n",
    "\n",
    "Execute the code below to:\n",
    "\n",
    "- calculate shoreline growth and retreat\n",
    "- create figure of shoreline growth and retreat"
   ]
  },
  {
   "cell_type": "code",
   "execution_count": 2,
   "metadata": {
    "id": "TGJRri5Os5t6"
   },
   "outputs": [
    {
     "name": "stdout",
     "output_type": "stream",
     "text": [
      "Shoreline analysis is finished!\n"
     ]
    }
   ],
   "source": [
    "# Execute to shoreline change analysis\n",
    "\n",
    "!python execute_3_shoreline_analysis.py"
   ]
  }
 ],
 "metadata": {
  "colab": {
   "authorship_tag": "ABX9TyM6Xgjd+UGmVw6hY0AHM+hF",
   "provenance": []
  },
  "gpuClass": "standard",
  "kernelspec": {
   "display_name": "Python 3 (ipykernel)",
   "language": "python",
   "name": "python3"
  },
  "language_info": {
   "codemirror_mode": {
    "name": "ipython",
    "version": 3
   },
   "file_extension": ".py",
   "mimetype": "text/x-python",
   "name": "python",
   "nbconvert_exporter": "python",
   "pygments_lexer": "ipython3",
   "version": "3.9.13"
  }
 },
 "nbformat": 4,
 "nbformat_minor": 4
}
